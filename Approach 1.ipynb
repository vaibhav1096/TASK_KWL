{
 "cells": [
  {
   "cell_type": "markdown",
   "metadata": {},
   "source": [
    "## Approach 1 \n",
    "\n",
    "\n",
    "In this Approach, have grouped all the level numbers ancd checked for the fails in each level.\n",
    "Most number of fails in a given level would correspond to most people failing in that particular level"
   ]
  },
  {
   "cell_type": "code",
   "execution_count": 178,
   "metadata": {},
   "outputs": [],
   "source": [
    "import pandas as pd\n",
    "import seaborn as sns"
   ]
  },
  {
   "cell_type": "markdown",
   "metadata": {},
   "source": [
    "### Analyzing Data"
   ]
  },
  {
   "cell_type": "code",
   "execution_count": 2,
   "metadata": {},
   "outputs": [],
   "source": [
    "df= pd.read_csv('level_progress.csv')"
   ]
  },
  {
   "cell_type": "code",
   "execution_count": 3,
   "metadata": {},
   "outputs": [
    {
     "data": {
      "text/html": [
       "<div>\n",
       "<style scoped>\n",
       "    .dataframe tbody tr th:only-of-type {\n",
       "        vertical-align: middle;\n",
       "    }\n",
       "\n",
       "    .dataframe tbody tr th {\n",
       "        vertical-align: top;\n",
       "    }\n",
       "\n",
       "    .dataframe thead th {\n",
       "        text-align: right;\n",
       "    }\n",
       "</style>\n",
       "<table border=\"1\" class=\"dataframe\">\n",
       "  <thead>\n",
       "    <tr style=\"text-align: right;\">\n",
       "      <th></th>\n",
       "      <th>event_datetime</th>\n",
       "      <th>player_id</th>\n",
       "      <th>level_number</th>\n",
       "      <th>status</th>\n",
       "      <th>session_id</th>\n",
       "    </tr>\n",
       "  </thead>\n",
       "  <tbody>\n",
       "    <tr>\n",
       "      <th>0</th>\n",
       "      <td>2020-11-28 21:00:24.958000</td>\n",
       "      <td>00020eac3d7e4f058b87eac1a9a85c25</td>\n",
       "      <td>6</td>\n",
       "      <td>complete</td>\n",
       "      <td>6ddf006b807e451eb4706d6d98a049b6</td>\n",
       "    </tr>\n",
       "    <tr>\n",
       "      <th>1</th>\n",
       "      <td>2020-11-27 22:03:03.048000</td>\n",
       "      <td>00020eac3d7e4f058b87eac1a9a85c25</td>\n",
       "      <td>2</td>\n",
       "      <td>start</td>\n",
       "      <td>3ba98db705f2aa0bc406441a61c23b3c</td>\n",
       "    </tr>\n",
       "    <tr>\n",
       "      <th>2</th>\n",
       "      <td>2020-11-26 14:53:09.344000</td>\n",
       "      <td>002188c0bc476f356f4c3b74e5cc66c8</td>\n",
       "      <td>1</td>\n",
       "      <td>start</td>\n",
       "      <td>25cf292a8f1d3da01df8371276502edf</td>\n",
       "    </tr>\n",
       "    <tr>\n",
       "      <th>3</th>\n",
       "      <td>2020-12-03 11:43:26.582000</td>\n",
       "      <td>00576ef3617e6bbbabfa0b1090e4122d</td>\n",
       "      <td>1</td>\n",
       "      <td>start</td>\n",
       "      <td>21fd6a7db53a9220574563ac8a8c8b58</td>\n",
       "    </tr>\n",
       "    <tr>\n",
       "      <th>4</th>\n",
       "      <td>2020-12-04 14:23:07.448000</td>\n",
       "      <td>00576ef3617e6bbbabfa0b1090e4122d</td>\n",
       "      <td>7</td>\n",
       "      <td>start</td>\n",
       "      <td>358b9ab5c1c0f08bc7def310411eb90f</td>\n",
       "    </tr>\n",
       "  </tbody>\n",
       "</table>\n",
       "</div>"
      ],
      "text/plain": [
       "               event_datetime                         player_id  level_number  \\\n",
       "0  2020-11-28 21:00:24.958000  00020eac3d7e4f058b87eac1a9a85c25             6   \n",
       "1  2020-11-27 22:03:03.048000  00020eac3d7e4f058b87eac1a9a85c25             2   \n",
       "2  2020-11-26 14:53:09.344000  002188c0bc476f356f4c3b74e5cc66c8             1   \n",
       "3  2020-12-03 11:43:26.582000  00576ef3617e6bbbabfa0b1090e4122d             1   \n",
       "4  2020-12-04 14:23:07.448000  00576ef3617e6bbbabfa0b1090e4122d             7   \n",
       "\n",
       "     status                        session_id  \n",
       "0  complete  6ddf006b807e451eb4706d6d98a049b6  \n",
       "1     start  3ba98db705f2aa0bc406441a61c23b3c  \n",
       "2     start  25cf292a8f1d3da01df8371276502edf  \n",
       "3     start  21fd6a7db53a9220574563ac8a8c8b58  \n",
       "4     start  358b9ab5c1c0f08bc7def310411eb90f  "
      ]
     },
     "execution_count": 3,
     "metadata": {},
     "output_type": "execute_result"
    }
   ],
   "source": [
    "df.head()"
   ]
  },
  {
   "cell_type": "code",
   "execution_count": 4,
   "metadata": {},
   "outputs": [
    {
     "name": "stdout",
     "output_type": "stream",
     "text": [
      "<class 'pandas.core.frame.DataFrame'>\n",
      "RangeIndex: 55826 entries, 0 to 55825\n",
      "Data columns (total 5 columns):\n",
      " #   Column          Non-Null Count  Dtype \n",
      "---  ------          --------------  ----- \n",
      " 0   event_datetime  55826 non-null  object\n",
      " 1   player_id       55826 non-null  object\n",
      " 2   level_number    55826 non-null  int64 \n",
      " 3   status          55826 non-null  object\n",
      " 4   session_id      55826 non-null  object\n",
      "dtypes: int64(1), object(4)\n",
      "memory usage: 2.1+ MB\n"
     ]
    }
   ],
   "source": [
    "df.info()"
   ]
  },
  {
   "cell_type": "code",
   "execution_count": 8,
   "metadata": {},
   "outputs": [
    {
     "data": {
      "text/html": [
       "<div>\n",
       "<style scoped>\n",
       "    .dataframe tbody tr th:only-of-type {\n",
       "        vertical-align: middle;\n",
       "    }\n",
       "\n",
       "    .dataframe tbody tr th {\n",
       "        vertical-align: top;\n",
       "    }\n",
       "\n",
       "    .dataframe thead th {\n",
       "        text-align: right;\n",
       "    }\n",
       "</style>\n",
       "<table border=\"1\" class=\"dataframe\">\n",
       "  <thead>\n",
       "    <tr style=\"text-align: right;\">\n",
       "      <th></th>\n",
       "      <th>level_number</th>\n",
       "    </tr>\n",
       "  </thead>\n",
       "  <tbody>\n",
       "    <tr>\n",
       "      <th>count</th>\n",
       "      <td>55826.000000</td>\n",
       "    </tr>\n",
       "    <tr>\n",
       "      <th>mean</th>\n",
       "      <td>5.991778</td>\n",
       "    </tr>\n",
       "    <tr>\n",
       "      <th>std</th>\n",
       "      <td>5.988455</td>\n",
       "    </tr>\n",
       "    <tr>\n",
       "      <th>min</th>\n",
       "      <td>0.000000</td>\n",
       "    </tr>\n",
       "    <tr>\n",
       "      <th>25%</th>\n",
       "      <td>2.000000</td>\n",
       "    </tr>\n",
       "    <tr>\n",
       "      <th>50%</th>\n",
       "      <td>4.000000</td>\n",
       "    </tr>\n",
       "    <tr>\n",
       "      <th>75%</th>\n",
       "      <td>8.000000</td>\n",
       "    </tr>\n",
       "    <tr>\n",
       "      <th>max</th>\n",
       "      <td>49.000000</td>\n",
       "    </tr>\n",
       "  </tbody>\n",
       "</table>\n",
       "</div>"
      ],
      "text/plain": [
       "       level_number\n",
       "count  55826.000000\n",
       "mean       5.991778\n",
       "std        5.988455\n",
       "min        0.000000\n",
       "25%        2.000000\n",
       "50%        4.000000\n",
       "75%        8.000000\n",
       "max       49.000000"
      ]
     },
     "execution_count": 8,
     "metadata": {},
     "output_type": "execute_result"
    }
   ],
   "source": [
    "df.describescribe()"
   ]
  },
  {
   "cell_type": "code",
   "execution_count": 9,
   "metadata": {},
   "outputs": [
    {
     "data": {
      "text/html": [
       "<div>\n",
       "<style scoped>\n",
       "    .dataframe tbody tr th:only-of-type {\n",
       "        vertical-align: middle;\n",
       "    }\n",
       "\n",
       "    .dataframe tbody tr th {\n",
       "        vertical-align: top;\n",
       "    }\n",
       "\n",
       "    .dataframe thead th {\n",
       "        text-align: right;\n",
       "    }\n",
       "</style>\n",
       "<table border=\"1\" class=\"dataframe\">\n",
       "  <thead>\n",
       "    <tr style=\"text-align: right;\">\n",
       "      <th></th>\n",
       "      <th>event_datetime</th>\n",
       "      <th>player_id</th>\n",
       "      <th>level_number</th>\n",
       "      <th>status</th>\n",
       "      <th>session_id</th>\n",
       "    </tr>\n",
       "  </thead>\n",
       "  <tbody>\n",
       "    <tr>\n",
       "      <th>0</th>\n",
       "      <td>2020-11-28 21:00:24.958000</td>\n",
       "      <td>00020eac3d7e4f058b87eac1a9a85c25</td>\n",
       "      <td>6</td>\n",
       "      <td>complete</td>\n",
       "      <td>6ddf006b807e451eb4706d6d98a049b6</td>\n",
       "    </tr>\n",
       "    <tr>\n",
       "      <th>1</th>\n",
       "      <td>2020-11-27 22:03:03.048000</td>\n",
       "      <td>00020eac3d7e4f058b87eac1a9a85c25</td>\n",
       "      <td>2</td>\n",
       "      <td>start</td>\n",
       "      <td>3ba98db705f2aa0bc406441a61c23b3c</td>\n",
       "    </tr>\n",
       "    <tr>\n",
       "      <th>2</th>\n",
       "      <td>2020-11-26 14:53:09.344000</td>\n",
       "      <td>002188c0bc476f356f4c3b74e5cc66c8</td>\n",
       "      <td>1</td>\n",
       "      <td>start</td>\n",
       "      <td>25cf292a8f1d3da01df8371276502edf</td>\n",
       "    </tr>\n",
       "    <tr>\n",
       "      <th>3</th>\n",
       "      <td>2020-12-03 11:43:26.582000</td>\n",
       "      <td>00576ef3617e6bbbabfa0b1090e4122d</td>\n",
       "      <td>1</td>\n",
       "      <td>start</td>\n",
       "      <td>21fd6a7db53a9220574563ac8a8c8b58</td>\n",
       "    </tr>\n",
       "    <tr>\n",
       "      <th>4</th>\n",
       "      <td>2020-12-04 14:23:07.448000</td>\n",
       "      <td>00576ef3617e6bbbabfa0b1090e4122d</td>\n",
       "      <td>7</td>\n",
       "      <td>start</td>\n",
       "      <td>358b9ab5c1c0f08bc7def310411eb90f</td>\n",
       "    </tr>\n",
       "    <tr>\n",
       "      <th>...</th>\n",
       "      <td>...</td>\n",
       "      <td>...</td>\n",
       "      <td>...</td>\n",
       "      <td>...</td>\n",
       "      <td>...</td>\n",
       "    </tr>\n",
       "    <tr>\n",
       "      <th>55821</th>\n",
       "      <td>2020-11-28 16:12:47.423000</td>\n",
       "      <td>005b8ec4ac873abe715658549b1df622</td>\n",
       "      <td>5</td>\n",
       "      <td>start</td>\n",
       "      <td>56d3d95c6c7ae2f62c5f2851b4ff6971</td>\n",
       "    </tr>\n",
       "    <tr>\n",
       "      <th>55822</th>\n",
       "      <td>2020-11-30 09:25:15.934000</td>\n",
       "      <td>007b14df3661f12d4da9ef6f92fc7f16</td>\n",
       "      <td>6</td>\n",
       "      <td>start</td>\n",
       "      <td>fc9c81723fa03c619144a9f818998395</td>\n",
       "    </tr>\n",
       "    <tr>\n",
       "      <th>55823</th>\n",
       "      <td>2020-11-26 14:23:30.994000</td>\n",
       "      <td>007b14df3661f12d4da9ef6f92fc7f16</td>\n",
       "      <td>0</td>\n",
       "      <td>complete</td>\n",
       "      <td>17fbe3250288639e3284e4b1e00762a3</td>\n",
       "    </tr>\n",
       "    <tr>\n",
       "      <th>55824</th>\n",
       "      <td>2020-11-24 18:51:08.746000</td>\n",
       "      <td>005a65aac934d42388795f30b24e03a0</td>\n",
       "      <td>0</td>\n",
       "      <td>complete</td>\n",
       "      <td>c3eaa21b32089aefff9b13d3feae6f8d</td>\n",
       "    </tr>\n",
       "    <tr>\n",
       "      <th>55825</th>\n",
       "      <td>2020-11-17 18:27:09.992000</td>\n",
       "      <td>007817af60c6e190ca909e2427ff3fc1</td>\n",
       "      <td>4</td>\n",
       "      <td>start</td>\n",
       "      <td>4f62ee33c8c434fc9824e3f8cea27d92</td>\n",
       "    </tr>\n",
       "  </tbody>\n",
       "</table>\n",
       "<p>55826 rows × 5 columns</p>\n",
       "</div>"
      ],
      "text/plain": [
       "                   event_datetime                         player_id  \\\n",
       "0      2020-11-28 21:00:24.958000  00020eac3d7e4f058b87eac1a9a85c25   \n",
       "1      2020-11-27 22:03:03.048000  00020eac3d7e4f058b87eac1a9a85c25   \n",
       "2      2020-11-26 14:53:09.344000  002188c0bc476f356f4c3b74e5cc66c8   \n",
       "3      2020-12-03 11:43:26.582000  00576ef3617e6bbbabfa0b1090e4122d   \n",
       "4      2020-12-04 14:23:07.448000  00576ef3617e6bbbabfa0b1090e4122d   \n",
       "...                           ...                               ...   \n",
       "55821  2020-11-28 16:12:47.423000  005b8ec4ac873abe715658549b1df622   \n",
       "55822  2020-11-30 09:25:15.934000  007b14df3661f12d4da9ef6f92fc7f16   \n",
       "55823  2020-11-26 14:23:30.994000  007b14df3661f12d4da9ef6f92fc7f16   \n",
       "55824  2020-11-24 18:51:08.746000  005a65aac934d42388795f30b24e03a0   \n",
       "55825  2020-11-17 18:27:09.992000  007817af60c6e190ca909e2427ff3fc1   \n",
       "\n",
       "       level_number    status                        session_id  \n",
       "0                 6  complete  6ddf006b807e451eb4706d6d98a049b6  \n",
       "1                 2     start  3ba98db705f2aa0bc406441a61c23b3c  \n",
       "2                 1     start  25cf292a8f1d3da01df8371276502edf  \n",
       "3                 1     start  21fd6a7db53a9220574563ac8a8c8b58  \n",
       "4                 7     start  358b9ab5c1c0f08bc7def310411eb90f  \n",
       "...             ...       ...                               ...  \n",
       "55821             5     start  56d3d95c6c7ae2f62c5f2851b4ff6971  \n",
       "55822             6     start  fc9c81723fa03c619144a9f818998395  \n",
       "55823             0  complete  17fbe3250288639e3284e4b1e00762a3  \n",
       "55824             0  complete  c3eaa21b32089aefff9b13d3feae6f8d  \n",
       "55825             4     start  4f62ee33c8c434fc9824e3f8cea27d92  \n",
       "\n",
       "[55826 rows x 5 columns]"
      ]
     },
     "execution_count": 9,
     "metadata": {},
     "output_type": "execute_result"
    }
   ],
   "source": [
    "df"
   ]
  },
  {
   "cell_type": "code",
   "execution_count": null,
   "metadata": {},
   "outputs": [],
   "source": [
    "#checking for the unique values fro each comllumn"
   ]
  },
  {
   "cell_type": "code",
   "execution_count": 12,
   "metadata": {},
   "outputs": [
    {
     "data": {
      "text/plain": [
       "12759"
      ]
     },
     "execution_count": 12,
     "metadata": {},
     "output_type": "execute_result"
    }
   ],
   "source": [
    "df['session_id'].nunique() "
   ]
  },
  {
   "cell_type": "code",
   "execution_count": 13,
   "metadata": {},
   "outputs": [
    {
     "data": {
      "text/plain": [
       "50"
      ]
     },
     "execution_count": 13,
     "metadata": {},
     "output_type": "execute_result"
    }
   ],
   "source": [
    "df['level_number'].nunique()"
   ]
  },
  {
   "cell_type": "code",
   "execution_count": 14,
   "metadata": {},
   "outputs": [
    {
     "data": {
      "text/plain": [
       "3872"
      ]
     },
     "execution_count": 14,
     "metadata": {},
     "output_type": "execute_result"
    }
   ],
   "source": [
    "df['player_id'].nunique()"
   ]
  },
  {
   "cell_type": "code",
   "execution_count": null,
   "metadata": {},
   "outputs": [],
   "source": [
    "#describng the categorical data"
   ]
  },
  {
   "cell_type": "code",
   "execution_count": 27,
   "metadata": {},
   "outputs": [
    {
     "data": {
      "text/html": [
       "<div>\n",
       "<style scoped>\n",
       "    .dataframe tbody tr th:only-of-type {\n",
       "        vertical-align: middle;\n",
       "    }\n",
       "\n",
       "    .dataframe tbody tr th {\n",
       "        vertical-align: top;\n",
       "    }\n",
       "\n",
       "    .dataframe thead th {\n",
       "        text-align: right;\n",
       "    }\n",
       "</style>\n",
       "<table border=\"1\" class=\"dataframe\">\n",
       "  <thead>\n",
       "    <tr style=\"text-align: right;\">\n",
       "      <th></th>\n",
       "      <th>event_datetime</th>\n",
       "      <th>player_id</th>\n",
       "      <th>status</th>\n",
       "      <th>session_id</th>\n",
       "    </tr>\n",
       "  </thead>\n",
       "  <tbody>\n",
       "    <tr>\n",
       "      <th>count</th>\n",
       "      <td>55826</td>\n",
       "      <td>55826</td>\n",
       "      <td>55826</td>\n",
       "      <td>55826</td>\n",
       "    </tr>\n",
       "    <tr>\n",
       "      <th>unique</th>\n",
       "      <td>55826</td>\n",
       "      <td>3872</td>\n",
       "      <td>3</td>\n",
       "      <td>12759</td>\n",
       "    </tr>\n",
       "    <tr>\n",
       "      <th>top</th>\n",
       "      <td>2020-11-29 20:56:09.596000</td>\n",
       "      <td>006c4c66f9976d96fb0bf9852b214b30</td>\n",
       "      <td>start</td>\n",
       "      <td>7c354840caa7e3790cfcd7a4d8e97281</td>\n",
       "    </tr>\n",
       "    <tr>\n",
       "      <th>freq</th>\n",
       "      <td>1</td>\n",
       "      <td>208</td>\n",
       "      <td>31109</td>\n",
       "      <td>82</td>\n",
       "    </tr>\n",
       "  </tbody>\n",
       "</table>\n",
       "</div>"
      ],
      "text/plain": [
       "                    event_datetime                         player_id status  \\\n",
       "count                        55826                             55826  55826   \n",
       "unique                       55826                              3872      3   \n",
       "top     2020-11-29 20:56:09.596000  006c4c66f9976d96fb0bf9852b214b30  start   \n",
       "freq                             1                               208  31109   \n",
       "\n",
       "                              session_id  \n",
       "count                              55826  \n",
       "unique                             12759  \n",
       "top     7c354840caa7e3790cfcd7a4d8e97281  \n",
       "freq                                  82  "
      ]
     },
     "execution_count": 27,
     "metadata": {},
     "output_type": "execute_result"
    }
   ],
   "source": [
    "a=df.dtypes[df.dtypes=='object'].index\n",
    "df[a].describe()"
   ]
  },
  {
   "cell_type": "code",
   "execution_count": 28,
   "metadata": {},
   "outputs": [
    {
     "data": {
      "text/html": [
       "<div>\n",
       "<style scoped>\n",
       "    .dataframe tbody tr th:only-of-type {\n",
       "        vertical-align: middle;\n",
       "    }\n",
       "\n",
       "    .dataframe tbody tr th {\n",
       "        vertical-align: top;\n",
       "    }\n",
       "\n",
       "    .dataframe thead th {\n",
       "        text-align: right;\n",
       "    }\n",
       "</style>\n",
       "<table border=\"1\" class=\"dataframe\">\n",
       "  <thead>\n",
       "    <tr style=\"text-align: right;\">\n",
       "      <th></th>\n",
       "      <th>level_number</th>\n",
       "    </tr>\n",
       "  </thead>\n",
       "  <tbody>\n",
       "    <tr>\n",
       "      <th>count</th>\n",
       "      <td>55826.000000</td>\n",
       "    </tr>\n",
       "    <tr>\n",
       "      <th>mean</th>\n",
       "      <td>5.991778</td>\n",
       "    </tr>\n",
       "    <tr>\n",
       "      <th>std</th>\n",
       "      <td>5.988455</td>\n",
       "    </tr>\n",
       "    <tr>\n",
       "      <th>min</th>\n",
       "      <td>0.000000</td>\n",
       "    </tr>\n",
       "    <tr>\n",
       "      <th>25%</th>\n",
       "      <td>2.000000</td>\n",
       "    </tr>\n",
       "    <tr>\n",
       "      <th>50%</th>\n",
       "      <td>4.000000</td>\n",
       "    </tr>\n",
       "    <tr>\n",
       "      <th>75%</th>\n",
       "      <td>8.000000</td>\n",
       "    </tr>\n",
       "    <tr>\n",
       "      <th>max</th>\n",
       "      <td>49.000000</td>\n",
       "    </tr>\n",
       "  </tbody>\n",
       "</table>\n",
       "</div>"
      ],
      "text/plain": [
       "       level_number\n",
       "count  55826.000000\n",
       "mean       5.991778\n",
       "std        5.988455\n",
       "min        0.000000\n",
       "25%        2.000000\n",
       "50%        4.000000\n",
       "75%        8.000000\n",
       "max       49.000000"
      ]
     },
     "execution_count": 28,
     "metadata": {},
     "output_type": "execute_result"
    }
   ],
   "source": [
    "df.describe()"
   ]
  },
  {
   "cell_type": "code",
   "execution_count": 234,
   "metadata": {},
   "outputs": [],
   "source": [
    "# looking for the unique values"
   ]
  },
  {
   "cell_type": "code",
   "execution_count": 235,
   "metadata": {},
   "outputs": [
    {
     "data": {
      "text/plain": [
       "[6, 2, 1, 1, 7, ..., 5, 6, 0, 0, 4]\n",
       "Length: 55826\n",
       "Categories (50, int64): [0, 1, 2, 3, ..., 46, 47, 48, 49]"
      ]
     },
     "execution_count": 235,
     "metadata": {},
     "output_type": "execute_result"
    }
   ],
   "source": [
    "pd.Categorical(df['level_number'])"
   ]
  },
  {
   "cell_type": "code",
   "execution_count": 236,
   "metadata": {},
   "outputs": [
    {
     "data": {
      "text/plain": [
       "[6ddf006b807e451eb4706d6d98a049b6, 3ba98db705f2aa0bc406441a61c23b3c, 25cf292a8f1d3da01df8371276502edf, 21fd6a7db53a9220574563ac8a8c8b58, 358b9ab5c1c0f08bc7def310411eb90f, ..., 56d3d95c6c7ae2f62c5f2851b4ff6971, fc9c81723fa03c619144a9f818998395, 17fbe3250288639e3284e4b1e00762a3, c3eaa21b32089aefff9b13d3feae6f8d, 4f62ee33c8c434fc9824e3f8cea27d92]\n",
       "Length: 55826\n",
       "Categories (12759, object): [000e7a2c724b6e9dba649f341bcc3736, 001fcee7e554cd696849cc0440509993, 0026864b54334318992099e9c6922cd8, 0039101a22aeca335e4150e5c8519353, ..., ffeccf2f9ebf11976eb9e459b667d779, ffee91cfcaf001b1704e86435e42242c, ffeede9b61bf3e8ba2723fc10c3d8148, fff568045a2a08080aaea4df7afc18b0]"
      ]
     },
     "execution_count": 236,
     "metadata": {},
     "output_type": "execute_result"
    }
   ],
   "source": [
    "pd.Categorical(df['session_id'])"
   ]
  },
  {
   "cell_type": "code",
   "execution_count": 55,
   "metadata": {},
   "outputs": [
    {
     "data": {
      "text/plain": [
       "[complete, start, start, start, start, ..., start, start, complete, complete, start]\n",
       "Length: 55826\n",
       "Categories (3, object): [complete, fail, start]"
      ]
     },
     "execution_count": 55,
     "metadata": {},
     "output_type": "execute_result"
    }
   ],
   "source": [
    "pd.Categorical(df['status'])"
   ]
  },
  {
   "cell_type": "code",
   "execution_count": null,
   "metadata": {},
   "outputs": [],
   "source": [
    "#checking for null values"
   ]
  },
  {
   "cell_type": "code",
   "execution_count": 35,
   "metadata": {},
   "outputs": [
    {
     "data": {
      "text/plain": [
       "event_datetime    0\n",
       "player_id         0\n",
       "level_number      0\n",
       "status            0\n",
       "session_id        0\n",
       "dtype: int64"
      ]
     },
     "execution_count": 35,
     "metadata": {},
     "output_type": "execute_result"
    }
   ],
   "source": [
    "df.isnull().sum()"
   ]
  },
  {
   "cell_type": "code",
   "execution_count": 38,
   "metadata": {},
   "outputs": [
    {
     "data": {
      "text/plain": [
       "count                          55826\n",
       "unique                         55826\n",
       "top       2020-11-29 20:56:09.596000\n",
       "freq                               1\n",
       "Name: event_datetime, dtype: object"
      ]
     },
     "execution_count": 38,
     "metadata": {},
     "output_type": "execute_result"
    }
   ],
   "source": [
    "df['event_datetime'].describe()"
   ]
  },
  {
   "cell_type": "code",
   "execution_count": null,
   "metadata": {},
   "outputs": [],
   "source": [
    "# Groupby 'level_number' and 'status' and describing it"
   ]
  },
  {
   "cell_type": "code",
   "execution_count": 230,
   "metadata": {},
   "outputs": [],
   "source": [
    "a=df.groupby(['level_number','status']).describe()"
   ]
  },
  {
   "cell_type": "code",
   "execution_count": 231,
   "metadata": {
    "scrolled": true
   },
   "outputs": [
    {
     "data": {
      "text/html": [
       "<div>\n",
       "<style scoped>\n",
       "    .dataframe tbody tr th:only-of-type {\n",
       "        vertical-align: middle;\n",
       "    }\n",
       "\n",
       "    .dataframe tbody tr th {\n",
       "        vertical-align: top;\n",
       "    }\n",
       "\n",
       "    .dataframe thead tr th {\n",
       "        text-align: left;\n",
       "    }\n",
       "\n",
       "    .dataframe thead tr:last-of-type th {\n",
       "        text-align: right;\n",
       "    }\n",
       "</style>\n",
       "<table border=\"1\" class=\"dataframe\">\n",
       "  <thead>\n",
       "    <tr>\n",
       "      <th></th>\n",
       "      <th></th>\n",
       "      <th colspan=\"4\" halign=\"left\">event_datetime</th>\n",
       "      <th colspan=\"4\" halign=\"left\">player_id</th>\n",
       "      <th colspan=\"4\" halign=\"left\">session_id</th>\n",
       "    </tr>\n",
       "    <tr>\n",
       "      <th></th>\n",
       "      <th></th>\n",
       "      <th>count</th>\n",
       "      <th>unique</th>\n",
       "      <th>top</th>\n",
       "      <th>freq</th>\n",
       "      <th>count</th>\n",
       "      <th>unique</th>\n",
       "      <th>top</th>\n",
       "      <th>freq</th>\n",
       "      <th>count</th>\n",
       "      <th>unique</th>\n",
       "      <th>top</th>\n",
       "      <th>freq</th>\n",
       "    </tr>\n",
       "    <tr>\n",
       "      <th>level_number</th>\n",
       "      <th>status</th>\n",
       "      <th></th>\n",
       "      <th></th>\n",
       "      <th></th>\n",
       "      <th></th>\n",
       "      <th></th>\n",
       "      <th></th>\n",
       "      <th></th>\n",
       "      <th></th>\n",
       "      <th></th>\n",
       "      <th></th>\n",
       "      <th></th>\n",
       "      <th></th>\n",
       "    </tr>\n",
       "  </thead>\n",
       "  <tbody>\n",
       "    <tr>\n",
       "      <th rowspan=\"3\" valign=\"top\">0</th>\n",
       "      <th>complete</th>\n",
       "      <td>3736</td>\n",
       "      <td>3736</td>\n",
       "      <td>2020-11-22 07:21:53.769000</td>\n",
       "      <td>1</td>\n",
       "      <td>3736</td>\n",
       "      <td>3693</td>\n",
       "      <td>0042d476fdef53d4d48ae9c47d8b65d6</td>\n",
       "      <td>6</td>\n",
       "      <td>3736</td>\n",
       "      <td>3695</td>\n",
       "      <td>f9ac0ce81ffac2619c641781b1ccbba3</td>\n",
       "      <td>6</td>\n",
       "    </tr>\n",
       "    <tr>\n",
       "      <th>fail</th>\n",
       "      <td>37</td>\n",
       "      <td>37</td>\n",
       "      <td>2020-11-15 11:04:52.317000</td>\n",
       "      <td>1</td>\n",
       "      <td>37</td>\n",
       "      <td>35</td>\n",
       "      <td>008e435e686c0e4d5027ee3a4018fe9b</td>\n",
       "      <td>2</td>\n",
       "      <td>37</td>\n",
       "      <td>36</td>\n",
       "      <td>df1033fafe69a0bf332c563f70d90a6d</td>\n",
       "      <td>2</td>\n",
       "    </tr>\n",
       "    <tr>\n",
       "      <th>start</th>\n",
       "      <td>428</td>\n",
       "      <td>428</td>\n",
       "      <td>2020-11-25 16:11:28.777000</td>\n",
       "      <td>1</td>\n",
       "      <td>428</td>\n",
       "      <td>320</td>\n",
       "      <td>007f67e377f8508a6bac2da0c79c9d36</td>\n",
       "      <td>11</td>\n",
       "      <td>428</td>\n",
       "      <td>387</td>\n",
       "      <td>d38a129b4b12a959dc35d45630f82127</td>\n",
       "      <td>6</td>\n",
       "    </tr>\n",
       "    <tr>\n",
       "      <th rowspan=\"2\" valign=\"top\">1</th>\n",
       "      <th>complete</th>\n",
       "      <td>3164</td>\n",
       "      <td>3164</td>\n",
       "      <td>2020-11-20 18:31:43.310000</td>\n",
       "      <td>1</td>\n",
       "      <td>3164</td>\n",
       "      <td>3115</td>\n",
       "      <td>005564dfc6bce889a611715e900de9dd</td>\n",
       "      <td>4</td>\n",
       "      <td>3164</td>\n",
       "      <td>3116</td>\n",
       "      <td>56bbb020d8e8fa1fa1d4bb6afa65bf12</td>\n",
       "      <td>4</td>\n",
       "    </tr>\n",
       "    <tr>\n",
       "      <th>fail</th>\n",
       "      <td>20</td>\n",
       "      <td>20</td>\n",
       "      <td>2020-11-24 11:01:39.275000</td>\n",
       "      <td>1</td>\n",
       "      <td>20</td>\n",
       "      <td>15</td>\n",
       "      <td>005cae303a2f52dcecc6286ba3271896</td>\n",
       "      <td>3</td>\n",
       "      <td>20</td>\n",
       "      <td>15</td>\n",
       "      <td>a4db8956848ce70062f0cb61c3e13233</td>\n",
       "      <td>3</td>\n",
       "    </tr>\n",
       "    <tr>\n",
       "      <th>...</th>\n",
       "      <th>...</th>\n",
       "      <td>...</td>\n",
       "      <td>...</td>\n",
       "      <td>...</td>\n",
       "      <td>...</td>\n",
       "      <td>...</td>\n",
       "      <td>...</td>\n",
       "      <td>...</td>\n",
       "      <td>...</td>\n",
       "      <td>...</td>\n",
       "      <td>...</td>\n",
       "      <td>...</td>\n",
       "      <td>...</td>\n",
       "    </tr>\n",
       "    <tr>\n",
       "      <th rowspan=\"2\" valign=\"top\">47</th>\n",
       "      <th>complete</th>\n",
       "      <td>1</td>\n",
       "      <td>1</td>\n",
       "      <td>2020-12-01 13:10:35.547000</td>\n",
       "      <td>1</td>\n",
       "      <td>1</td>\n",
       "      <td>1</td>\n",
       "      <td>00a5a91803a661bae4e8ee1c4e6cd741</td>\n",
       "      <td>1</td>\n",
       "      <td>1</td>\n",
       "      <td>1</td>\n",
       "      <td>651ba16e123c6baf5fe3ab656f3ee8b0</td>\n",
       "      <td>1</td>\n",
       "    </tr>\n",
       "    <tr>\n",
       "      <th>start</th>\n",
       "      <td>1</td>\n",
       "      <td>1</td>\n",
       "      <td>2020-12-01 13:07:32.611000</td>\n",
       "      <td>1</td>\n",
       "      <td>1</td>\n",
       "      <td>1</td>\n",
       "      <td>00a5a91803a661bae4e8ee1c4e6cd741</td>\n",
       "      <td>1</td>\n",
       "      <td>1</td>\n",
       "      <td>1</td>\n",
       "      <td>651ba16e123c6baf5fe3ab656f3ee8b0</td>\n",
       "      <td>1</td>\n",
       "    </tr>\n",
       "    <tr>\n",
       "      <th rowspan=\"2\" valign=\"top\">48</th>\n",
       "      <th>complete</th>\n",
       "      <td>1</td>\n",
       "      <td>1</td>\n",
       "      <td>2020-12-01 13:15:59.411000</td>\n",
       "      <td>1</td>\n",
       "      <td>1</td>\n",
       "      <td>1</td>\n",
       "      <td>00a5a91803a661bae4e8ee1c4e6cd741</td>\n",
       "      <td>1</td>\n",
       "      <td>1</td>\n",
       "      <td>1</td>\n",
       "      <td>651ba16e123c6baf5fe3ab656f3ee8b0</td>\n",
       "      <td>1</td>\n",
       "    </tr>\n",
       "    <tr>\n",
       "      <th>start</th>\n",
       "      <td>1</td>\n",
       "      <td>1</td>\n",
       "      <td>2020-12-01 13:10:55.207000</td>\n",
       "      <td>1</td>\n",
       "      <td>1</td>\n",
       "      <td>1</td>\n",
       "      <td>00a5a91803a661bae4e8ee1c4e6cd741</td>\n",
       "      <td>1</td>\n",
       "      <td>1</td>\n",
       "      <td>1</td>\n",
       "      <td>651ba16e123c6baf5fe3ab656f3ee8b0</td>\n",
       "      <td>1</td>\n",
       "    </tr>\n",
       "    <tr>\n",
       "      <th>49</th>\n",
       "      <th>start</th>\n",
       "      <td>1</td>\n",
       "      <td>1</td>\n",
       "      <td>2020-12-01 13:15:18.876000</td>\n",
       "      <td>1</td>\n",
       "      <td>1</td>\n",
       "      <td>1</td>\n",
       "      <td>00a5a91803a661bae4e8ee1c4e6cd741</td>\n",
       "      <td>1</td>\n",
       "      <td>1</td>\n",
       "      <td>1</td>\n",
       "      <td>651ba16e123c6baf5fe3ab656f3ee8b0</td>\n",
       "      <td>1</td>\n",
       "    </tr>\n",
       "  </tbody>\n",
       "</table>\n",
       "<p>139 rows × 12 columns</p>\n",
       "</div>"
      ],
      "text/plain": [
       "                      event_datetime                                          \\\n",
       "                               count unique                         top freq   \n",
       "level_number status                                                            \n",
       "0            complete           3736   3736  2020-11-22 07:21:53.769000    1   \n",
       "             fail                 37     37  2020-11-15 11:04:52.317000    1   \n",
       "             start               428    428  2020-11-25 16:11:28.777000    1   \n",
       "1            complete           3164   3164  2020-11-20 18:31:43.310000    1   \n",
       "             fail                 20     20  2020-11-24 11:01:39.275000    1   \n",
       "...                              ...    ...                         ...  ...   \n",
       "47           complete              1      1  2020-12-01 13:10:35.547000    1   \n",
       "             start                 1      1  2020-12-01 13:07:32.611000    1   \n",
       "48           complete              1      1  2020-12-01 13:15:59.411000    1   \n",
       "             start                 1      1  2020-12-01 13:10:55.207000    1   \n",
       "49           start                 1      1  2020-12-01 13:15:18.876000    1   \n",
       "\n",
       "                      player_id                                                \\\n",
       "                          count unique                               top freq   \n",
       "level_number status                                                             \n",
       "0            complete      3736   3693  0042d476fdef53d4d48ae9c47d8b65d6    6   \n",
       "             fail            37     35  008e435e686c0e4d5027ee3a4018fe9b    2   \n",
       "             start          428    320  007f67e377f8508a6bac2da0c79c9d36   11   \n",
       "1            complete      3164   3115  005564dfc6bce889a611715e900de9dd    4   \n",
       "             fail            20     15  005cae303a2f52dcecc6286ba3271896    3   \n",
       "...                         ...    ...                               ...  ...   \n",
       "47           complete         1      1  00a5a91803a661bae4e8ee1c4e6cd741    1   \n",
       "             start            1      1  00a5a91803a661bae4e8ee1c4e6cd741    1   \n",
       "48           complete         1      1  00a5a91803a661bae4e8ee1c4e6cd741    1   \n",
       "             start            1      1  00a5a91803a661bae4e8ee1c4e6cd741    1   \n",
       "49           start            1      1  00a5a91803a661bae4e8ee1c4e6cd741    1   \n",
       "\n",
       "                      session_id                                                \n",
       "                           count unique                               top freq  \n",
       "level_number status                                                             \n",
       "0            complete       3736   3695  f9ac0ce81ffac2619c641781b1ccbba3    6  \n",
       "             fail             37     36  df1033fafe69a0bf332c563f70d90a6d    2  \n",
       "             start           428    387  d38a129b4b12a959dc35d45630f82127    6  \n",
       "1            complete       3164   3116  56bbb020d8e8fa1fa1d4bb6afa65bf12    4  \n",
       "             fail             20     15  a4db8956848ce70062f0cb61c3e13233    3  \n",
       "...                          ...    ...                               ...  ...  \n",
       "47           complete          1      1  651ba16e123c6baf5fe3ab656f3ee8b0    1  \n",
       "             start             1      1  651ba16e123c6baf5fe3ab656f3ee8b0    1  \n",
       "48           complete          1      1  651ba16e123c6baf5fe3ab656f3ee8b0    1  \n",
       "             start             1      1  651ba16e123c6baf5fe3ab656f3ee8b0    1  \n",
       "49           start             1      1  651ba16e123c6baf5fe3ab656f3ee8b0    1  \n",
       "\n",
       "[139 rows x 12 columns]"
      ]
     },
     "execution_count": 231,
     "metadata": {},
     "output_type": "execute_result"
    }
   ],
   "source": [
    "a"
   ]
  },
  {
   "cell_type": "code",
   "execution_count": null,
   "metadata": {},
   "outputs": [],
   "source": [
    "#slicing level and corresponding fail values for each value"
   ]
  },
  {
   "cell_type": "code",
   "execution_count": 232,
   "metadata": {},
   "outputs": [],
   "source": [
    "b=a['player_id']['count'][:, 'fail']"
   ]
  },
  {
   "cell_type": "code",
   "execution_count": 281,
   "metadata": {},
   "outputs": [
    {
     "data": {
      "text/plain": [
       "865"
      ]
     },
     "execution_count": 281,
     "metadata": {},
     "output_type": "execute_result"
    }
   ],
   "source": [
    "b.max()#level 3 has maximum nunber of fails\n"
   ]
  },
  {
   "cell_type": "code",
   "execution_count": 282,
   "metadata": {},
   "outputs": [
    {
     "data": {
      "text/plain": [
       "level_number\n",
       "0      37\n",
       "1      20\n",
       "2      91\n",
       "3     865\n",
       "4     475\n",
       "5     537\n",
       "6     400\n",
       "7     255\n",
       "8     255\n",
       "9     157\n",
       "10    127\n",
       "11    147\n",
       "12    109\n",
       "13    111\n",
       "14    105\n",
       "15     53\n",
       "16     55\n",
       "17     56\n",
       "18     36\n",
       "19     39\n",
       "20     21\n",
       "21     18\n",
       "22     37\n",
       "23     39\n",
       "24     11\n",
       "25     10\n",
       "26     15\n",
       "27      9\n",
       "28      9\n",
       "29     10\n",
       "30      7\n",
       "31      6\n",
       "32      9\n",
       "33      5\n",
       "35      3\n",
       "37      1\n",
       "38      2\n",
       "39      1\n",
       "42      2\n",
       "44      1\n",
       "Name: count, dtype: object"
      ]
     },
     "execution_count": 282,
     "metadata": {},
     "output_type": "execute_result"
    }
   ],
   "source": [
    "b"
   ]
  },
  {
   "cell_type": "code",
   "execution_count": 187,
   "metadata": {},
   "outputs": [],
   "source": []
  },
  {
   "cell_type": "code",
   "execution_count": null,
   "metadata": {},
   "outputs": [],
   "source": []
  },
  {
   "cell_type": "code",
   "execution_count": null,
   "metadata": {},
   "outputs": [],
   "source": []
  }
 ],
 "metadata": {
  "kernelspec": {
   "display_name": "Python 3",
   "language": "python",
   "name": "python3"
  },
  "language_info": {
   "codemirror_mode": {
    "name": "ipython",
    "version": 3
   },
   "file_extension": ".py",
   "mimetype": "text/x-python",
   "name": "python",
   "nbconvert_exporter": "python",
   "pygments_lexer": "ipython3",
   "version": "3.8.3"
  }
 },
 "nbformat": 4,
 "nbformat_minor": 4
}
